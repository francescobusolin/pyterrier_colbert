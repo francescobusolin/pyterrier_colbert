{
 "cells": [
  {
   "cell_type": "code",
   "execution_count": 1,
   "id": "major-blond",
   "metadata": {},
   "outputs": [],
   "source": [
    "import faiss\n",
    "import pyterrier as pt\n",
    "import ujson\n",
    "import numpy as np\n",
    "\n",
    "import itertools\n",
    "import threading\n",
    "import queue\n",
    "\n",
    "from colbert.modeling.inference import ModelInference\n",
    "from colbert.evaluation.loaders import load_colbert\n",
    "from pyterrier_colbert import load_checkpoint\n",
    "# monkeypatch to use our downloading version\n",
    "import colbert.evaluation.loaders\n",
    "\n",
    "colbert.evaluation.loaders.load_checkpoint = load_checkpoint\n",
    "colbert.evaluation.loaders.load_model.__globals__['load_checkpoint'] = load_checkpoint\n",
    "from colbert.utils.utils import print_message\n",
    "import pickle\n",
    "from colbert.indexing.index_manager import IndexManager\n",
    "from warnings import warn\n",
    "from transformers import AutoTokenizer, AutoModelForMaskedLM\n"
   ]
  },
  {
   "cell_type": "code",
   "execution_count": 2,
   "id": "racial-wrestling",
   "metadata": {},
   "outputs": [
    {
     "name": "stderr",
     "output_type": "stream",
     "text": [
      "PyTerrier 0.10.0 has loaded Terrier 5.8 (built by craigm on 2023-11-01 18:05) and terrier-helper 0.0.8\n",
      "\n",
      "No etc/terrier.properties, using terrier.default.properties for bootstrap configuration.\n"
     ]
    }
   ],
   "source": [
    "pt.init()"
   ]
  },
  {
   "cell_type": "code",
   "execution_count": 3,
   "id": "unlike-medication",
   "metadata": {},
   "outputs": [],
   "source": [
    "from pyterrier_colbert.preprocessing import CorpusIteratorPreprocessor"
   ]
  },
  {
   "cell_type": "code",
   "execution_count": 4,
   "id": "julian-radar",
   "metadata": {},
   "outputs": [],
   "source": [
    "class Object():\n",
    "    pass"
   ]
  },
  {
   "cell_type": "code",
   "execution_count": 5,
   "id": "supposed-appearance",
   "metadata": {},
   "outputs": [],
   "source": [
    "checkpoint=\"http://www.dcs.gla.ac.uk/~craigm/colbert.dnn.zip\""
   ]
  },
  {
   "cell_type": "code",
   "execution_count": 6,
   "id": "ruled-office",
   "metadata": {},
   "outputs": [],
   "source": [
    "args = Object()\n",
    "args.similarity = 'cosine'\n",
    "args.dim = 128\n",
    "args.query_maxlen = 32\n",
    "args.doc_maxlen = 180\n",
    "args.checkpoint = checkpoint\n",
    "args.mask_punctuation = False"
   ]
  },
  {
   "cell_type": "code",
   "execution_count": 7,
   "id": "lightweight-twist",
   "metadata": {},
   "outputs": [],
   "source": [
    "dataset = pt.get_dataset('vaswani')"
   ]
  },
  {
   "cell_type": "code",
   "execution_count": 8,
   "id": "european-movie",
   "metadata": {},
   "outputs": [],
   "source": [
    "wordpiece = AutoTokenizer.from_pretrained(\"google-bert/bert-base-uncased\")"
   ]
  },
  {
   "cell_type": "code",
   "execution_count": 9,
   "id": "local-lawyer",
   "metadata": {},
   "outputs": [
    {
     "name": "stdout",
     "output_type": "stream",
     "text": [
      "Downloading vaswani corpus to /home/busolin/.pyterrier/corpora/vaswani/corpus\n"
     ]
    },
    {
     "name": "stderr",
     "output_type": "stream",
     "text": [
      "doc-text.trec: 3.33MiB [00:00, 45.8MiB/s]                                                                                                    \n"
     ]
    }
   ],
   "source": [
    "dataset_cleaned = CorpusIteratorPreprocessor(dataset.get_corpus_iter(), wordpiece)"
   ]
  },
  {
   "cell_type": "code",
   "execution_count": 10,
   "id": "supreme-retention",
   "metadata": {},
   "outputs": [],
   "source": [
    "import pyterrier_colbert.indexing"
   ]
  },
  {
   "cell_type": "code",
   "execution_count": 12,
   "id": "exposed-lighter",
   "metadata": {},
   "outputs": [
    {
     "name": "stdout",
     "output_type": "stream",
     "text": [
      "[Mar 03, 14:55:31] [0] \t\t #> Local args.bsize = 128\n",
      "[Mar 03, 14:55:31] [0] \t\t #> args.index_root = ./indexes\n",
      "[Mar 03, 14:55:31] [0] \t\t #> self.possible_subset_sizes = [69905]\n"
     ]
    },
    {
     "name": "stderr",
     "output_type": "stream",
     "text": [
      "Some weights of ColBERT were not initialized from the model checkpoint at bert-base-uncased and are newly initialized: ['linear.weight']\n",
      "You should probably TRAIN this model on a down-stream task to be able to use it for predictions and inference.\n"
     ]
    },
    {
     "name": "stdout",
     "output_type": "stream",
     "text": [
      "[Mar 03, 14:55:32] #> Loading model checkpoint.\n",
      "[Mar 03, 14:55:32] #> Loading checkpoint http://www.dcs.gla.ac.uk/~craigm/colbert.dnn.zip\n",
      "[Mar 03, 14:55:40] #> checkpoint['epoch'] = 0\n",
      "[Mar 03, 14:55:40] #> checkpoint['batch'] = 44500\n",
      "\n",
      "\n",
      "\n",
      "\n",
      "[Mar 03, 14:55:40] #> Note: Output directory ./indexes already exists\n",
      "\n",
      "\n",
      "\n",
      "\n",
      "[Mar 03, 14:55:40] #> Creating directory ./indexes/index.base.vaswani \n",
      "\n",
      "\n",
      "[Mar 03, 14:57:38] [0] \t\t #> Completed batch #0 (starting at passage #0) \t\tPassages/min: 5.8k (overall),  5.9k (this encoding),  10163.3M (this saving)\n",
      "[Mar 03, 14:57:38] [0] \t\t [NOTE] Done with local share.\n",
      "[Mar 03, 14:57:38] [0] \t\t #> Joining saver thread.\n",
      "[Mar 03, 14:57:38] [0] \t\t #> Saved batch #0 to ./indexes/index.base.vaswani/0.pt \t\t Saving Throughput = 2.7M passages per minute.\n",
      "\n",
      "#> num_embeddings = 581496\n",
      "[Mar 03, 14:57:38] #> Starting..\n",
      "[Mar 03, 14:57:38] #> Processing slice #1 of 1 (range 0..1).\n",
      "[Mar 03, 14:57:38] #> Will write to ./indexes/index.base.vaswani/ivfpq.1024.faiss.\n",
      "[Mar 03, 14:57:38] #> Loading ./indexes/index.base.vaswani/0.sample ...\n",
      "#> Sample has shape (29074, 128)\n",
      "[Mar 03, 14:57:38] Preparing resources for 1 GPUs.\n",
      "[Mar 03, 14:57:38] #> Training with the vectors...\n",
      "[Mar 03, 14:57:38] #> Training now (using 1 GPUs)...\n",
      "0.10343217849731445\n"
     ]
    },
    {
     "name": "stderr",
     "output_type": "stream",
     "text": [
      "WARNING clustering 29074 points to 1024 centroids: please provide at least 39936 training points\n"
     ]
    },
    {
     "name": "stdout",
     "output_type": "stream",
     "text": [
      "18.71484136581421\n",
      "0.0008025169372558594\n",
      "[Mar 03, 14:57:57] Done training!\n",
      "\n",
      "[Mar 03, 14:57:57] #> Indexing the vectors...\n",
      "[Mar 03, 14:57:57] #> Loading ('./indexes/index.base.vaswani/0.pt', None, None) (from queue)...\n",
      "[Mar 03, 14:57:57] #> Processing a sub_collection with shape (581496, 128)\n",
      "[Mar 03, 14:57:57] Add data with shape (581496, 128) (offset = 0)..\n",
      "  IndexIVFPQ size 0 -> GpuIndexIVFPQ indicesOptions=0 usePrecomputed=0 useFloat16=1 reserveVecs=33554432\n",
      "524288/581496 (4.390 s)   Flush indexes to CPU\n",
      "add(.) time: 4.898 s \t\t--\t\t index.ntotal = 581496\n",
      "[Mar 03, 14:58:02] Done indexing!\n",
      "[Mar 03, 14:58:02] Writing index to ./indexes/index.base.vaswani/ivfpq.1024.faiss ...\n",
      "[Mar 03, 14:58:02] \n",
      "\n",
      "Done! All complete (for slice #1 of 1)!\n",
      "#> Faiss encoding complete\n",
      "#> Indexing complete, Time elapsed 151.23 seconds\n"
     ]
    }
   ],
   "source": [
    "base_indexer = pyterrier_colbert.indexing.ColBERTIndexer(checkpoint, \"./indexes\", \"index.base.vaswani\", chunksize=3, num_partitions=1024)\n",
    "base_indexer.index(dataset.get_corpus_iter(), )"
   ]
  },
  {
   "cell_type": "code",
   "execution_count": 13,
   "id": "whole-magic",
   "metadata": {},
   "outputs": [
    {
     "name": "stdout",
     "output_type": "stream",
     "text": [
      "[Mar 03, 14:58:02] [0] \t\t #> Local args.bsize = 128\n",
      "[Mar 03, 14:58:02] [0] \t\t #> args.index_root = ./indexes\n",
      "[Mar 03, 14:58:02] [0] \t\t #> self.possible_subset_sizes = [69905]\n"
     ]
    },
    {
     "name": "stderr",
     "output_type": "stream",
     "text": [
      "Some weights of ColBERT were not initialized from the model checkpoint at bert-base-uncased and are newly initialized: ['linear.weight']\n",
      "You should probably TRAIN this model on a down-stream task to be able to use it for predictions and inference.\n"
     ]
    },
    {
     "name": "stdout",
     "output_type": "stream",
     "text": [
      "[Mar 03, 14:58:03] #> Loading model checkpoint.\n",
      "[Mar 03, 14:58:03] #> Loading checkpoint http://www.dcs.gla.ac.uk/~craigm/colbert.dnn.zip\n",
      "[Mar 03, 14:58:11] #> checkpoint['epoch'] = 0\n",
      "[Mar 03, 14:58:11] #> checkpoint['batch'] = 44500\n",
      "\n",
      "\n",
      "\n",
      "\n",
      "[Mar 03, 14:58:11] #> Note: Output directory ./indexes already exists\n",
      "\n",
      "\n",
      "\n",
      "\n",
      "[Mar 03, 14:58:11] #> Creating directory ./indexes/index.clean.vaswani \n",
      "\n",
      "\n",
      "[Mar 03, 15:00:14] [0] \t\t #> Completed batch #0 (starting at passage #0) \t\tPassages/min: 5.6k (overall),  5.8k (this encoding),  10199.3M (this saving)\n",
      "[Mar 03, 15:00:14] [0] \t\t [NOTE] Done with local share.\n",
      "[Mar 03, 15:00:14] [0] \t\t #> Joining saver thread.\n",
      "[Mar 03, 15:00:14] [0] \t\t #> Saved batch #0 to ./indexes/index.clean.vaswani/0.pt \t\t Saving Throughput = 3.3M passages per minute.\n",
      "\n",
      "#> num_embeddings = 467958\n",
      "[Mar 03, 15:00:14] #> Starting..\n",
      "[Mar 03, 15:00:14] #> Processing slice #1 of 1 (range 0..1).\n",
      "[Mar 03, 15:00:14] #> Will write to ./indexes/index.clean.vaswani/ivfpq.1024.faiss.\n",
      "[Mar 03, 15:00:14] #> Loading ./indexes/index.clean.vaswani/0.sample ...\n",
      "#> Sample has shape (23397, 128)\n",
      "[Mar 03, 15:00:14] Preparing resources for 1 GPUs.\n",
      "[Mar 03, 15:00:14] #> Training with the vectors...\n",
      "[Mar 03, 15:00:14] #> Training now (using 1 GPUs)...\n",
      "0.1138923168182373\n"
     ]
    },
    {
     "name": "stderr",
     "output_type": "stream",
     "text": [
      "WARNING clustering 23397 points to 1024 centroids: please provide at least 39936 training points\n"
     ]
    },
    {
     "name": "stdout",
     "output_type": "stream",
     "text": [
      "15.235949039459229\n",
      "0.0003101825714111328\n",
      "[Mar 03, 15:00:29] Done training!\n",
      "\n",
      "[Mar 03, 15:00:29] #> Indexing the vectors...\n",
      "[Mar 03, 15:00:30] #> Loading ('./indexes/index.clean.vaswani/0.pt', None, None) (from queue)...\n",
      "[Mar 03, 15:00:30] #> Processing a sub_collection with shape (467958, 128)\n",
      "[Mar 03, 15:00:30] Add data with shape (467958, 128) (offset = 0)..\n",
      "  IndexIVFPQ size 0 -> GpuIndexIVFPQ indicesOptions=0 usePrecomputed=0 useFloat16=1 reserveVecs=33554432\n",
      "458752/467958 (3.815 s)   Flush indexes to CPU\n",
      "add(.) time: 3.908 s \t\t--\t\t index.ntotal = 467958\n",
      "[Mar 03, 15:00:34] Done indexing!\n",
      "[Mar 03, 15:00:34] Writing index to ./indexes/index.clean.vaswani/ivfpq.1024.faiss ...\n",
      "[Mar 03, 15:00:34] \n",
      "\n",
      "Done! All complete (for slice #1 of 1)!\n",
      "#> Faiss encoding complete\n",
      "#> Indexing complete, Time elapsed 151.53 seconds\n"
     ]
    }
   ],
   "source": [
    "cleaned_indexer = pyterrier_colbert.indexing.ColBERTIndexer(checkpoint, \"./indexes\", \"index.clean.vaswani\", chunksize=3, num_partitions=1024)\n",
    "cleaned_indexer.index(dataset_cleaned)"
   ]
  },
  {
   "cell_type": "code",
   "execution_count": 14,
   "id": "announced-system",
   "metadata": {},
   "outputs": [
    {
     "name": "stdout",
     "output_type": "stream",
     "text": [
      "[Mar 03, 15:00:34] #> Loading the FAISS index from ./indexes/index.base.vaswani/ivfpq.1024.faiss ..\n",
      "[Mar 03, 15:00:34] #> Building the emb2pid mapping..\n",
      "[Mar 03, 15:00:34] len(self.emb2pid) = 581496\n",
      "Loading reranking index, memtype=mem\n"
     ]
    },
    {
     "name": "stderr",
     "output_type": "stream",
     "text": [
      "Loading index shards to memory: 100%|███████████████████████████████████████████████████████████████████████| 1/1 [00:00<00:00,  9.34shard/s]\n"
     ]
    }
   ],
   "source": [
    "pyterrier_colbert_factory = base_indexer.ranking_factory()\n",
    "\n",
    "colbert_e2e_base = pyterrier_colbert_factory.end_to_end()"
   ]
  },
  {
   "cell_type": "code",
   "execution_count": 15,
   "id": "enormous-weekly",
   "metadata": {},
   "outputs": [
    {
     "name": "stdout",
     "output_type": "stream",
     "text": [
      "[Mar 03, 15:00:35] #> Loading the FAISS index from ./indexes/index.clean.vaswani/ivfpq.1024.faiss ..\n",
      "[Mar 03, 15:00:35] #> Building the emb2pid mapping..\n",
      "[Mar 03, 15:00:35] len(self.emb2pid) = 467958\n",
      "Loading reranking index, memtype=mem\n"
     ]
    },
    {
     "name": "stderr",
     "output_type": "stream",
     "text": [
      "Loading index shards to memory: 100%|███████████████████████████████████████████████████████████████████████| 1/1 [00:00<00:00, 11.44shard/s]\n"
     ]
    }
   ],
   "source": [
    "pyterrier_colbert_factory = cleaned_indexer.ranking_factory()\n",
    "\n",
    "colbert_e2e_clean = pyterrier_colbert_factory.end_to_end()"
   ]
  },
  {
   "cell_type": "code",
   "execution_count": 16,
   "id": "ambient-homeless",
   "metadata": {},
   "outputs": [
    {
     "data": {
      "text/html": [
       "<div>\n",
       "<style scoped>\n",
       "    .dataframe tbody tr th:only-of-type {\n",
       "        vertical-align: middle;\n",
       "    }\n",
       "\n",
       "    .dataframe tbody tr th {\n",
       "        vertical-align: top;\n",
       "    }\n",
       "\n",
       "    .dataframe thead th {\n",
       "        text-align: right;\n",
       "    }\n",
       "</style>\n",
       "<table border=\"1\" class=\"dataframe\">\n",
       "  <thead>\n",
       "    <tr style=\"text-align: right;\">\n",
       "      <th></th>\n",
       "      <th>qid</th>\n",
       "      <th>query</th>\n",
       "      <th>docid</th>\n",
       "      <th>query_toks</th>\n",
       "      <th>query_embs</th>\n",
       "      <th>score</th>\n",
       "      <th>docno</th>\n",
       "      <th>rank</th>\n",
       "    </tr>\n",
       "  </thead>\n",
       "  <tbody>\n",
       "    <tr>\n",
       "      <th>2298</th>\n",
       "      <td>1</td>\n",
       "      <td>chemical reactions</td>\n",
       "      <td>4911</td>\n",
       "      <td>[tensor(101), tensor(1), tensor(5072), tensor(...</td>\n",
       "      <td>[[tensor(0.0680), tensor(-0.0083), tensor(0.11...</td>\n",
       "      <td>19.825491</td>\n",
       "      <td>4912</td>\n",
       "      <td>0</td>\n",
       "    </tr>\n",
       "    <tr>\n",
       "      <th>2950</th>\n",
       "      <td>1</td>\n",
       "      <td>chemical reactions</td>\n",
       "      <td>7048</td>\n",
       "      <td>[tensor(101), tensor(1), tensor(5072), tensor(...</td>\n",
       "      <td>[[tensor(0.0680), tensor(-0.0083), tensor(0.11...</td>\n",
       "      <td>19.057419</td>\n",
       "      <td>7049</td>\n",
       "      <td>1</td>\n",
       "    </tr>\n",
       "    <tr>\n",
       "      <th>2790</th>\n",
       "      <td>1</td>\n",
       "      <td>chemical reactions</td>\n",
       "      <td>6479</td>\n",
       "      <td>[tensor(101), tensor(1), tensor(5072), tensor(...</td>\n",
       "      <td>[[tensor(0.0680), tensor(-0.0083), tensor(0.11...</td>\n",
       "      <td>18.034231</td>\n",
       "      <td>6480</td>\n",
       "      <td>2</td>\n",
       "    </tr>\n",
       "    <tr>\n",
       "      <th>677</th>\n",
       "      <td>1</td>\n",
       "      <td>chemical reactions</td>\n",
       "      <td>9373</td>\n",
       "      <td>[tensor(101), tensor(1), tensor(5072), tensor(...</td>\n",
       "      <td>[[tensor(0.0680), tensor(-0.0083), tensor(0.11...</td>\n",
       "      <td>17.137503</td>\n",
       "      <td>9374</td>\n",
       "      <td>3</td>\n",
       "    </tr>\n",
       "    <tr>\n",
       "      <th>2732</th>\n",
       "      <td>1</td>\n",
       "      <td>chemical reactions</td>\n",
       "      <td>6278</td>\n",
       "      <td>[tensor(101), tensor(1), tensor(5072), tensor(...</td>\n",
       "      <td>[[tensor(0.0680), tensor(-0.0083), tensor(0.11...</td>\n",
       "      <td>16.797464</td>\n",
       "      <td>6279</td>\n",
       "      <td>4</td>\n",
       "    </tr>\n",
       "    <tr>\n",
       "      <th>1335</th>\n",
       "      <td>1</td>\n",
       "      <td>chemical reactions</td>\n",
       "      <td>2420</td>\n",
       "      <td>[tensor(101), tensor(1), tensor(5072), tensor(...</td>\n",
       "      <td>[[tensor(0.0680), tensor(-0.0083), tensor(0.11...</td>\n",
       "      <td>16.425671</td>\n",
       "      <td>2421</td>\n",
       "      <td>5</td>\n",
       "    </tr>\n",
       "    <tr>\n",
       "      <th>2104</th>\n",
       "      <td>1</td>\n",
       "      <td>chemical reactions</td>\n",
       "      <td>4292</td>\n",
       "      <td>[tensor(101), tensor(1), tensor(5072), tensor(...</td>\n",
       "      <td>[[tensor(0.0680), tensor(-0.0083), tensor(0.11...</td>\n",
       "      <td>16.188728</td>\n",
       "      <td>4293</td>\n",
       "      <td>6</td>\n",
       "    </tr>\n",
       "    <tr>\n",
       "      <th>1391</th>\n",
       "      <td>1</td>\n",
       "      <td>chemical reactions</td>\n",
       "      <td>10702</td>\n",
       "      <td>[tensor(101), tensor(1), tensor(5072), tensor(...</td>\n",
       "      <td>[[tensor(0.0680), tensor(-0.0083), tensor(0.11...</td>\n",
       "      <td>16.156439</td>\n",
       "      <td>10703</td>\n",
       "      <td>7</td>\n",
       "    </tr>\n",
       "    <tr>\n",
       "      <th>2445</th>\n",
       "      <td>1</td>\n",
       "      <td>chemical reactions</td>\n",
       "      <td>5303</td>\n",
       "      <td>[tensor(101), tensor(1), tensor(5072), tensor(...</td>\n",
       "      <td>[[tensor(0.0680), tensor(-0.0083), tensor(0.11...</td>\n",
       "      <td>16.006428</td>\n",
       "      <td>5304</td>\n",
       "      <td>8</td>\n",
       "    </tr>\n",
       "    <tr>\n",
       "      <th>1738</th>\n",
       "      <td>1</td>\n",
       "      <td>chemical reactions</td>\n",
       "      <td>3100</td>\n",
       "      <td>[tensor(101), tensor(1), tensor(5072), tensor(...</td>\n",
       "      <td>[[tensor(0.0680), tensor(-0.0083), tensor(0.11...</td>\n",
       "      <td>15.883968</td>\n",
       "      <td>3101</td>\n",
       "      <td>9</td>\n",
       "    </tr>\n",
       "  </tbody>\n",
       "</table>\n",
       "</div>"
      ],
      "text/plain": [
       "     qid               query  docid  \\\n",
       "2298   1  chemical reactions   4911   \n",
       "2950   1  chemical reactions   7048   \n",
       "2790   1  chemical reactions   6479   \n",
       "677    1  chemical reactions   9373   \n",
       "2732   1  chemical reactions   6278   \n",
       "1335   1  chemical reactions   2420   \n",
       "2104   1  chemical reactions   4292   \n",
       "1391   1  chemical reactions  10702   \n",
       "2445   1  chemical reactions   5303   \n",
       "1738   1  chemical reactions   3100   \n",
       "\n",
       "                                             query_toks  \\\n",
       "2298  [tensor(101), tensor(1), tensor(5072), tensor(...   \n",
       "2950  [tensor(101), tensor(1), tensor(5072), tensor(...   \n",
       "2790  [tensor(101), tensor(1), tensor(5072), tensor(...   \n",
       "677   [tensor(101), tensor(1), tensor(5072), tensor(...   \n",
       "2732  [tensor(101), tensor(1), tensor(5072), tensor(...   \n",
       "1335  [tensor(101), tensor(1), tensor(5072), tensor(...   \n",
       "2104  [tensor(101), tensor(1), tensor(5072), tensor(...   \n",
       "1391  [tensor(101), tensor(1), tensor(5072), tensor(...   \n",
       "2445  [tensor(101), tensor(1), tensor(5072), tensor(...   \n",
       "1738  [tensor(101), tensor(1), tensor(5072), tensor(...   \n",
       "\n",
       "                                             query_embs      score  docno  \\\n",
       "2298  [[tensor(0.0680), tensor(-0.0083), tensor(0.11...  19.825491   4912   \n",
       "2950  [[tensor(0.0680), tensor(-0.0083), tensor(0.11...  19.057419   7049   \n",
       "2790  [[tensor(0.0680), tensor(-0.0083), tensor(0.11...  18.034231   6480   \n",
       "677   [[tensor(0.0680), tensor(-0.0083), tensor(0.11...  17.137503   9374   \n",
       "2732  [[tensor(0.0680), tensor(-0.0083), tensor(0.11...  16.797464   6279   \n",
       "1335  [[tensor(0.0680), tensor(-0.0083), tensor(0.11...  16.425671   2421   \n",
       "2104  [[tensor(0.0680), tensor(-0.0083), tensor(0.11...  16.188728   4293   \n",
       "1391  [[tensor(0.0680), tensor(-0.0083), tensor(0.11...  16.156439  10703   \n",
       "2445  [[tensor(0.0680), tensor(-0.0083), tensor(0.11...  16.006428   5304   \n",
       "1738  [[tensor(0.0680), tensor(-0.0083), tensor(0.11...  15.883968   3101   \n",
       "\n",
       "      rank  \n",
       "2298     0  \n",
       "2950     1  \n",
       "2790     2  \n",
       "677      3  \n",
       "2732     4  \n",
       "1335     5  \n",
       "2104     6  \n",
       "1391     7  \n",
       "2445     8  \n",
       "1738     9  "
      ]
     },
     "execution_count": 16,
     "metadata": {},
     "output_type": "execute_result"
    }
   ],
   "source": [
    "(colbert_e2e_base % 10).search(\"chemical reactions\")\n"
   ]
  },
  {
   "cell_type": "code",
   "execution_count": 17,
   "id": "stable-landscape",
   "metadata": {},
   "outputs": [
    {
     "data": {
      "text/html": [
       "<div>\n",
       "<style scoped>\n",
       "    .dataframe tbody tr th:only-of-type {\n",
       "        vertical-align: middle;\n",
       "    }\n",
       "\n",
       "    .dataframe tbody tr th {\n",
       "        vertical-align: top;\n",
       "    }\n",
       "\n",
       "    .dataframe thead th {\n",
       "        text-align: right;\n",
       "    }\n",
       "</style>\n",
       "<table border=\"1\" class=\"dataframe\">\n",
       "  <thead>\n",
       "    <tr style=\"text-align: right;\">\n",
       "      <th></th>\n",
       "      <th>qid</th>\n",
       "      <th>query</th>\n",
       "      <th>docid</th>\n",
       "      <th>query_toks</th>\n",
       "      <th>query_embs</th>\n",
       "      <th>score</th>\n",
       "      <th>docno</th>\n",
       "      <th>rank</th>\n",
       "    </tr>\n",
       "  </thead>\n",
       "  <tbody>\n",
       "    <tr>\n",
       "      <th>2759</th>\n",
       "      <td>1</td>\n",
       "      <td>chemical reactions</td>\n",
       "      <td>7048</td>\n",
       "      <td>[tensor(101), tensor(1), tensor(5072), tensor(...</td>\n",
       "      <td>[[tensor(0.0680), tensor(-0.0083), tensor(0.11...</td>\n",
       "      <td>19.449532</td>\n",
       "      <td>7049</td>\n",
       "      <td>0</td>\n",
       "    </tr>\n",
       "    <tr>\n",
       "      <th>2150</th>\n",
       "      <td>1</td>\n",
       "      <td>chemical reactions</td>\n",
       "      <td>4911</td>\n",
       "      <td>[tensor(101), tensor(1), tensor(5072), tensor(...</td>\n",
       "      <td>[[tensor(0.0680), tensor(-0.0083), tensor(0.11...</td>\n",
       "      <td>18.698568</td>\n",
       "      <td>4912</td>\n",
       "      <td>1</td>\n",
       "    </tr>\n",
       "    <tr>\n",
       "      <th>3022</th>\n",
       "      <td>1</td>\n",
       "      <td>chemical reactions</td>\n",
       "      <td>8040</td>\n",
       "      <td>[tensor(101), tensor(1), tensor(5072), tensor(...</td>\n",
       "      <td>[[tensor(0.0680), tensor(-0.0083), tensor(0.11...</td>\n",
       "      <td>18.258787</td>\n",
       "      <td>8041</td>\n",
       "      <td>2</td>\n",
       "    </tr>\n",
       "    <tr>\n",
       "      <th>2620</th>\n",
       "      <td>1</td>\n",
       "      <td>chemical reactions</td>\n",
       "      <td>6479</td>\n",
       "      <td>[tensor(101), tensor(1), tensor(5072), tensor(...</td>\n",
       "      <td>[[tensor(0.0680), tensor(-0.0083), tensor(0.11...</td>\n",
       "      <td>16.970802</td>\n",
       "      <td>6480</td>\n",
       "      <td>3</td>\n",
       "    </tr>\n",
       "    <tr>\n",
       "      <th>2372</th>\n",
       "      <td>1</td>\n",
       "      <td>chemical reactions</td>\n",
       "      <td>5587</td>\n",
       "      <td>[tensor(101), tensor(1), tensor(5072), tensor(...</td>\n",
       "      <td>[[tensor(0.0680), tensor(-0.0083), tensor(0.11...</td>\n",
       "      <td>16.869686</td>\n",
       "      <td>5588</td>\n",
       "      <td>4</td>\n",
       "    </tr>\n",
       "    <tr>\n",
       "      <th>1261</th>\n",
       "      <td>1</td>\n",
       "      <td>chemical reactions</td>\n",
       "      <td>2420</td>\n",
       "      <td>[tensor(101), tensor(1), tensor(5072), tensor(...</td>\n",
       "      <td>[[tensor(0.0680), tensor(-0.0083), tensor(0.11...</td>\n",
       "      <td>16.815220</td>\n",
       "      <td>2421</td>\n",
       "      <td>5</td>\n",
       "    </tr>\n",
       "    <tr>\n",
       "      <th>618</th>\n",
       "      <td>1</td>\n",
       "      <td>chemical reactions</td>\n",
       "      <td>9373</td>\n",
       "      <td>[tensor(101), tensor(1), tensor(5072), tensor(...</td>\n",
       "      <td>[[tensor(0.0680), tensor(-0.0083), tensor(0.11...</td>\n",
       "      <td>16.772886</td>\n",
       "      <td>9374</td>\n",
       "      <td>6</td>\n",
       "    </tr>\n",
       "    <tr>\n",
       "      <th>1640</th>\n",
       "      <td>1</td>\n",
       "      <td>chemical reactions</td>\n",
       "      <td>3100</td>\n",
       "      <td>[tensor(101), tensor(1), tensor(5072), tensor(...</td>\n",
       "      <td>[[tensor(0.0680), tensor(-0.0083), tensor(0.11...</td>\n",
       "      <td>16.384573</td>\n",
       "      <td>3101</td>\n",
       "      <td>7</td>\n",
       "    </tr>\n",
       "    <tr>\n",
       "      <th>1315</th>\n",
       "      <td>1</td>\n",
       "      <td>chemical reactions</td>\n",
       "      <td>10702</td>\n",
       "      <td>[tensor(101), tensor(1), tensor(5072), tensor(...</td>\n",
       "      <td>[[tensor(0.0680), tensor(-0.0083), tensor(0.11...</td>\n",
       "      <td>16.161060</td>\n",
       "      <td>10703</td>\n",
       "      <td>8</td>\n",
       "    </tr>\n",
       "    <tr>\n",
       "      <th>2273</th>\n",
       "      <td>1</td>\n",
       "      <td>chemical reactions</td>\n",
       "      <td>5303</td>\n",
       "      <td>[tensor(101), tensor(1), tensor(5072), tensor(...</td>\n",
       "      <td>[[tensor(0.0680), tensor(-0.0083), tensor(0.11...</td>\n",
       "      <td>15.903149</td>\n",
       "      <td>5304</td>\n",
       "      <td>9</td>\n",
       "    </tr>\n",
       "  </tbody>\n",
       "</table>\n",
       "</div>"
      ],
      "text/plain": [
       "     qid               query  docid  \\\n",
       "2759   1  chemical reactions   7048   \n",
       "2150   1  chemical reactions   4911   \n",
       "3022   1  chemical reactions   8040   \n",
       "2620   1  chemical reactions   6479   \n",
       "2372   1  chemical reactions   5587   \n",
       "1261   1  chemical reactions   2420   \n",
       "618    1  chemical reactions   9373   \n",
       "1640   1  chemical reactions   3100   \n",
       "1315   1  chemical reactions  10702   \n",
       "2273   1  chemical reactions   5303   \n",
       "\n",
       "                                             query_toks  \\\n",
       "2759  [tensor(101), tensor(1), tensor(5072), tensor(...   \n",
       "2150  [tensor(101), tensor(1), tensor(5072), tensor(...   \n",
       "3022  [tensor(101), tensor(1), tensor(5072), tensor(...   \n",
       "2620  [tensor(101), tensor(1), tensor(5072), tensor(...   \n",
       "2372  [tensor(101), tensor(1), tensor(5072), tensor(...   \n",
       "1261  [tensor(101), tensor(1), tensor(5072), tensor(...   \n",
       "618   [tensor(101), tensor(1), tensor(5072), tensor(...   \n",
       "1640  [tensor(101), tensor(1), tensor(5072), tensor(...   \n",
       "1315  [tensor(101), tensor(1), tensor(5072), tensor(...   \n",
       "2273  [tensor(101), tensor(1), tensor(5072), tensor(...   \n",
       "\n",
       "                                             query_embs      score  docno  \\\n",
       "2759  [[tensor(0.0680), tensor(-0.0083), tensor(0.11...  19.449532   7049   \n",
       "2150  [[tensor(0.0680), tensor(-0.0083), tensor(0.11...  18.698568   4912   \n",
       "3022  [[tensor(0.0680), tensor(-0.0083), tensor(0.11...  18.258787   8041   \n",
       "2620  [[tensor(0.0680), tensor(-0.0083), tensor(0.11...  16.970802   6480   \n",
       "2372  [[tensor(0.0680), tensor(-0.0083), tensor(0.11...  16.869686   5588   \n",
       "1261  [[tensor(0.0680), tensor(-0.0083), tensor(0.11...  16.815220   2421   \n",
       "618   [[tensor(0.0680), tensor(-0.0083), tensor(0.11...  16.772886   9374   \n",
       "1640  [[tensor(0.0680), tensor(-0.0083), tensor(0.11...  16.384573   3101   \n",
       "1315  [[tensor(0.0680), tensor(-0.0083), tensor(0.11...  16.161060  10703   \n",
       "2273  [[tensor(0.0680), tensor(-0.0083), tensor(0.11...  15.903149   5304   \n",
       "\n",
       "      rank  \n",
       "2759     0  \n",
       "2150     1  \n",
       "3022     2  \n",
       "2620     3  \n",
       "2372     4  \n",
       "1261     5  \n",
       "618      6  \n",
       "1640     7  \n",
       "1315     8  \n",
       "2273     9  "
      ]
     },
     "execution_count": 17,
     "metadata": {},
     "output_type": "execute_result"
    }
   ],
   "source": [
    "(colbert_e2e_clean % 10).search(\"chemical reactions\")\n"
   ]
  },
  {
   "cell_type": "code",
   "execution_count": 18,
   "id": "civilian-boston",
   "metadata": {},
   "outputs": [],
   "source": [
    "\n",
    "dataset = pt.get_dataset(\"vaswani\")\n",
    "\n",
    "bm25 = pt.BatchRetrieve(dataset.get_index(), wmodel=\"BM25\")"
   ]
  },
  {
   "cell_type": "code",
   "execution_count": 23,
   "id": "digital-moderator",
   "metadata": {},
   "outputs": [
    {
     "data": {
      "text/html": [
       "<div>\n",
       "<style scoped>\n",
       "    .dataframe tbody tr th:only-of-type {\n",
       "        vertical-align: middle;\n",
       "    }\n",
       "\n",
       "    .dataframe tbody tr th {\n",
       "        vertical-align: top;\n",
       "    }\n",
       "\n",
       "    .dataframe thead th {\n",
       "        text-align: right;\n",
       "    }\n",
       "</style>\n",
       "<table border=\"1\" class=\"dataframe\">\n",
       "  <thead>\n",
       "    <tr style=\"text-align: right;\">\n",
       "      <th></th>\n",
       "      <th>name</th>\n",
       "      <th>recip_rank</th>\n",
       "      <th>ndcg_cut_10</th>\n",
       "      <th>mrt</th>\n",
       "      <th>recip_rank +</th>\n",
       "      <th>recip_rank -</th>\n",
       "      <th>recip_rank p-value</th>\n",
       "      <th>ndcg_cut_10 +</th>\n",
       "      <th>ndcg_cut_10 -</th>\n",
       "      <th>ndcg_cut_10 p-value</th>\n",
       "    </tr>\n",
       "  </thead>\n",
       "  <tbody>\n",
       "    <tr>\n",
       "      <th>0</th>\n",
       "      <td>ColBERT base</td>\n",
       "      <td>0.703509</td>\n",
       "      <td>0.426514</td>\n",
       "      <td>254.49705</td>\n",
       "      <td>NaN</td>\n",
       "      <td>NaN</td>\n",
       "      <td>NaN</td>\n",
       "      <td>NaN</td>\n",
       "      <td>NaN</td>\n",
       "      <td>NaN</td>\n",
       "    </tr>\n",
       "    <tr>\n",
       "      <th>1</th>\n",
       "      <td>ColBERT clean</td>\n",
       "      <td>0.701786</td>\n",
       "      <td>0.430996</td>\n",
       "      <td>255.49435</td>\n",
       "      <td>18.0</td>\n",
       "      <td>20.0</td>\n",
       "      <td>0.935728</td>\n",
       "      <td>41.0</td>\n",
       "      <td>37.0</td>\n",
       "      <td>0.620189</td>\n",
       "    </tr>\n",
       "  </tbody>\n",
       "</table>\n",
       "</div>"
      ],
      "text/plain": [
       "            name  recip_rank  ndcg_cut_10        mrt  recip_rank +  \\\n",
       "0   ColBERT base    0.703509     0.426514  254.49705           NaN   \n",
       "1  ColBERT clean    0.701786     0.430996  255.49435          18.0   \n",
       "\n",
       "   recip_rank -  recip_rank p-value  ndcg_cut_10 +  ndcg_cut_10 -  \\\n",
       "0           NaN                 NaN            NaN            NaN   \n",
       "1          20.0            0.935728           41.0           37.0   \n",
       "\n",
       "   ndcg_cut_10 p-value  \n",
       "0                  NaN  \n",
       "1             0.620189  "
      ]
     },
     "execution_count": 23,
     "metadata": {},
     "output_type": "execute_result"
    }
   ],
   "source": [
    "pt.Experiment(\n",
    "    [colbert_e2e_base, colbert_e2e_clean],\n",
    "    dataset.get_topics(),\n",
    "    dataset.get_qrels(),\n",
    "    eval_metrics=[\"recip_rank\", \"ndcg_cut_10\", 'mrt'],\n",
    "    names = [\"ColBERT base\", \"ColBERT clean\"],\n",
    "    baseline=0\n",
    ")"
   ]
  },
  {
   "cell_type": "code",
   "execution_count": null,
   "id": "brilliant-question",
   "metadata": {},
   "outputs": [],
   "source": []
  },
  {
   "cell_type": "code",
   "execution_count": null,
   "id": "valid-utilization",
   "metadata": {},
   "outputs": [],
   "source": []
  },
  {
   "cell_type": "code",
   "execution_count": null,
   "id": "equipped-weapon",
   "metadata": {},
   "outputs": [],
   "source": []
  }
 ],
 "metadata": {
  "kernelspec": {
   "display_name": "Python (cleanbert)",
   "language": "python",
   "name": "cleanbert"
  },
  "language_info": {
   "codemirror_mode": {
    "name": "ipython",
    "version": 3
   },
   "file_extension": ".py",
   "mimetype": "text/x-python",
   "name": "python",
   "nbconvert_exporter": "python",
   "pygments_lexer": "ipython3",
   "version": "3.8.18"
  }
 },
 "nbformat": 4,
 "nbformat_minor": 5
}
